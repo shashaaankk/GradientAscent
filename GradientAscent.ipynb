{
  "cells": [
    {
      "cell_type": "markdown",
      "metadata": {
        "colab_type": "text",
        "id": "view-in-github"
      },
      "source": [
        "<a href=\"https://colab.research.google.com/github/shashaaankk/GradientAscent/blob/main/GradientAscent.ipynb\" target=\"_parent\"><img src=\"https://colab.research.google.com/assets/colab-badge.svg\" alt=\"Open In Colab\"/></a>"
      ]
    },
    {
      "cell_type": "code",
<<<<<<< HEAD
      "execution_count": 2,
=======
      "execution_count": 64,
>>>>>>> 3bf4e8bb451a176c559e1a6540d6ba77251a1cee
      "metadata": {},
      "outputs": [],
      "source": [
        "# imports\n",
        "import pandas as pd\n",
        "import numpy as np\n",
        "import gpxpy\n",
        "from sklearn.linear_model import LogisticRegression\n",
        "from sklearn.model_selection import train_test_split\n",
        "from sklearn.preprocessing import StandardScaler\n",
        "from sklearn.metrics import classification_report\n",
<<<<<<< HEAD
        "from sklearn.decomposition import PCA\n",
        "import matplotlib.pyplot as plt\n",
        "import xml.etree.ElementTree as ET\n",
        "import math\n"
=======
        "import os\n",
        "import glob\n",
        "import gpxpy\n",
        "import sys\n",
        "from scipy.stats import zscore\n",
        "import matplotlib.pyplot as plt\n"
>>>>>>> 3bf4e8bb451a176c559e1a6540d6ba77251a1cee
      ]
    },
    {
      "cell_type": "code",
<<<<<<< HEAD
      "execution_count": 3,
=======
      "execution_count": 65,
>>>>>>> 3bf4e8bb451a176c559e1a6540d6ba77251a1cee
      "metadata": {},
      "outputs": [],
      "source": [
        "LOCAL = not 'google.colab' in sys.modules"
      ]
    },
    {
      "cell_type": "code",
<<<<<<< HEAD
      "execution_count": 4,
=======
      "execution_count": 66,
>>>>>>> 3bf4e8bb451a176c559e1a6540d6ba77251a1cee
      "metadata": {
        "colab": {
          "base_uri": "https://localhost:8080/",
          "height": 41
        },
        "id": "Mngq1luAl8g2",
        "outputId": "39508712-f216-4b99-b364-a33f4e9681f9"
      },
      "outputs": [],
      "source": [
        "if not LOCAL:\n",
        "    !pip install --quiet kaggle kagglehub[pandas-datasets]\n",
        "    from google.colab import files\n",
        "    uploaded = files.upload()   # click to select your kaggle.json\n",
        "    if 'kaggle.json' not in uploaded:\n",
        "        raise FileNotFoundError(\"You must upload the kaggle.json you downloaded from Kaggle.\")\n"
      ]
    },
    {
      "cell_type": "code",
<<<<<<< HEAD
      "execution_count": 5,
=======
      "execution_count": 67,
>>>>>>> 3bf4e8bb451a176c559e1a6540d6ba77251a1cee
      "metadata": {
        "id": "X7oK6Nazs6qJ"
      },
      "outputs": [],
      "source": [
        "if not LOCAL:\n",
        "    import os, shutil\n",
        "    # make sure ~/.kaggle exists\n",
        "    kaggle_dir = os.path.expanduser(\"~/.kaggle\")\n",
        "    os.makedirs(kaggle_dir, exist_ok=True)\n",
        "\n",
        "    # move and secure\n",
        "    shutil.move(\"kaggle.json\", os.path.join(kaggle_dir, \"kaggle.json\"))\n",
        "    os.chmod(os.path.join(kaggle_dir, \"kaggle.json\"), 0o600)\n",
        "\n",
        "    # sometimes needed:\n",
        "    os.environ['KAGGLE_CONFIG_DIR'] = kaggle_dir\n"
      ]
    },
    {
      "cell_type": "code",
<<<<<<< HEAD
      "execution_count": 6,
=======
      "execution_count": 68,
>>>>>>> 3bf4e8bb451a176c559e1a6540d6ba77251a1cee
      "metadata": {
        "id": "OqULn93ftgIl"
      },
      "outputs": [
        {
          "name": "stderr",
          "output_type": "stream",
          "text": [
<<<<<<< HEAD
            "A subdirectory or file data already exists.\n",
            "  % Total    % Received % Xferd  Average Speed   Time    Time     Time  Current\n",
            "                                 Dload  Upload   Total   Spent    Left  Speed\n",
            "\n",
            "  0     0    0     0    0     0      0      0 --:--:-- --:--:-- --:--:--     0\n",
            "  0     0    0     0    0     0      0      0 --:--:-- --:--:-- --:--:--     0\n",
            "\n",
            "  0 57.4M    0 79664    0     0   108k      0  0:09:02 --:--:--  0:09:02  108k\n",
            " 22 57.4M   22 12.9M    0     0  7748k      0  0:00:07  0:00:01  0:00:06 12.9M\n",
            " 60 57.4M   60 34.5M    0     0  12.7M      0  0:00:04  0:00:02  0:00:02 17.3M\n",
            " 96 57.4M   96 55.6M    0     0  14.9M      0  0:00:03  0:00:03 --:--:-- 18.5M\n",
            "100 57.4M  100 57.4M    0     0  15.1M      0  0:00:03  0:00:03 --:--:-- 18.7M\n",
            "'unzip' is not recognized as an internal or external command,\n",
            "operable program or batch file.\n"
=======
            "Zip file already exists. Skipping download.\n",
            "Extracting files...\n",
            "Extraction complete.\n"
>>>>>>> 3bf4e8bb451a176c559e1a6540d6ba77251a1cee
          ]
        }
      ],
      "source": [
        "if not LOCAL:\n",
        "    import kagglehub\n",
        "    path = kagglehub.dataset_download(\"roccoli/gpx-hike-tracks\")\n",
        "else:\n",
        "    import os\n",
        "    import zipfile\n",
        "    import requests\n",
        "\n",
        "    # Define file and directory paths\n",
        "    data_dir = \"data\"\n",
        "    zip_path = os.path.join(data_dir, \"gpx-hike-tracks.zip\")\n",
        "    download_url = \"https://www.kaggle.com/api/v1/datasets/download/roccoli/gpx-hike-tracks\"\n",
        "\n",
        "    # Ensure the data directory exists\n",
        "    os.makedirs(data_dir, exist_ok=True)\n",
        "\n",
        "    # Check if the zip file already exists\n",
        "    if not os.path.exists(zip_path):\n",
        "        print(\"Downloading dataset...\")\n",
        "        response = requests.get(download_url, allow_redirects=True)\n",
        "        if response.status_code == 200:\n",
        "            with open(zip_path, \"wb\") as f:\n",
        "                f.write(response.content)\n",
        "            print(\"Download complete.\")\n",
        "        else:\n",
        "            raise Exception(f\"Failed to download file. Status code: {response.status_code}\")\n",
        "    else:\n",
        "        print(\"Zip file already exists. Skipping download.\")\n",
        "\n",
        "    # Unzip the file\n",
        "    print(\"Extracting files...\")\n",
        "    with zipfile.ZipFile(zip_path, 'r') as zip_ref:\n",
        "        zip_ref.extractall(data_dir)\n",
        "    print(\"Extraction complete.\")\n"
      ]
    },
    {
      "cell_type": "code",
<<<<<<< HEAD
      "execution_count": 7,
=======
      "execution_count": 69,
>>>>>>> 3bf4e8bb451a176c559e1a6540d6ba77251a1cee
      "metadata": {
        "id": "h2u_1MMRuUSn"
      },
      "outputs": [],
      "source": [
        "# 1. Install gpxpy (to parse .gpx files)\n",
        "import gpxpy\n",
        "import pandas as pd\n",
        "if not LOCAL:\n",
        "\n",
        "    csv_files = glob.glob(os.path.join(path, \"**\", \"*.csv\"), recursive=True)\n",
        "    csv_path = csv_files[0]\n",
        "    print(\"Loading:\", csv_path)\n",
        "\n",
        "else:\n",
        "    csv_path = os.path.join(\"data\", \"gpx-tracks-from-hikr.org.csv\")\n",
        "\n",
        "# Read and inspect\n",
        "df = pd.read_csv(csv_path)\n",
        "# print(\"Shape:\", df.shape)\n",
        "# print(\"Columns:\", df.columns.tolist())\n",
        "# print(df.head())\n",
        "\n"
      ]
    },
    {
      "cell_type": "code",
<<<<<<< HEAD
      "execution_count": 8,
      "metadata": {},
      "outputs": [],
      "source": [
        "# Getting distance between start and end points of GPX tracks\n",
        "\n",
        "def haversine(lat1, lon1, lat2, lon2):\n",
        "    R = 6371000  # radius in meters\n",
        "    phi1, phi2 = math.radians(lat1), math.radians(lat2)\n",
        "    dphi = math.radians(lat2 - lat1)\n",
        "    dlambda = math.radians(lon2 - lon1)\n",
        "    a = math.sin(dphi / 2)**2 + math.cos(phi1) * math.cos(phi2) * math.sin(dlambda / 2)**2\n",
        "    return R * 2 * math.asin(math.sqrt(a))\n",
        "\n",
        "\n",
        "def start_end_distance_from_gpx_string(gpx_string):\n",
        "    \"\"\"\n",
        "    Parse a GPX XML string, extract the first and last trkpt coordinates,\n",
        "    and return the Haversine distance between them in kilometers.\n",
        "    Returns None if parsing fails or fewer than 2 track points.\n",
        "    \"\"\"\n",
        "    try:\n",
        "        root = ET.fromstring(gpx_string)\n",
        "        trkpts = []\n",
        "        for elem in root.iter():\n",
        "            if elem.tag.endswith('trkpt'):\n",
        "                lat = elem.attrib.get('lat')\n",
        "                lon = elem.attrib.get('lon')\n",
        "                if lat is not None and lon is not None:\n",
        "                    trkpts.append((float(lat), float(lon)))\n",
        "        if len(trkpts) < 2:\n",
        "            return None\n",
        "        lat1, lon1 = trkpts[0]\n",
        "        lat2, lon2 = trkpts[-1]\n",
        "        dist_mm = haversine(lat1, lon1, lat2, lon2)\n",
        "        return dist_mm \n",
        "    except ET.ParseError:\n",
        "        return None"
      ]
    },
    {
      "cell_type": "code",
      "execution_count": 9,
=======
      "execution_count": 74,
>>>>>>> 3bf4e8bb451a176c559e1a6540d6ba77251a1cee
      "metadata": {
        "id": "mn1XCOEBw6hP"
      },
      "outputs": [],
      "source": [
        "#Pre-processing 1\n",
        "\n",
        "df = df.dropna()\n",
        "df = df[df[\"start_time\"]!=df[\"end_time\"]]\n",
        "df = df[df[\"length_3d\"]!=0]\n",
        "df = df[df[\"moving_time\"]!=0]\n",
        "# Convert time columns to datetime\n",
        "df[\"start_time\"] = pd.to_datetime(df[\"start_time\"], format=\"%Y-%m-%d %H:%M:%S\" , errors='coerce')\n",
        "df[\"end_time\"] = pd.to_datetime(df[\"end_time\"], format=\"%Y-%m-%d %H:%M:%S\" ,errors='coerce')\n",
        "\n",
        "# Compute total duration in seconds\n",
        "df[\"duration\"] =  df[\"moving_time\"]\n",
        "\n",
        "# Compute break time: duration - moving_time\n",
        "df[\"break_time\"] = (df[\"end_time\"] - df[\"start_time\"]).dt.total_seconds() - df[\"moving_time\"]\n",
        "\n",
<<<<<<< HEAD
        "\n",
        "df['start_end_distance'] = df['gpx'].apply(start_end_distance_from_gpx_string)\n"
      ]
    },
    {
      "cell_type": "code",
      "execution_count": null,
      "metadata": {},
      "outputs": [
        {
          "ename": "KeyError",
          "evalue": "'gpx'",
          "output_type": "error",
          "traceback": [
            "\u001b[31m---------------------------------------------------------------------------\u001b[39m",
            "\u001b[31mKeyError\u001b[39m                                  Traceback (most recent call last)",
            "\u001b[36mCell\u001b[39m\u001b[36m \u001b[39m\u001b[32mIn[11]\u001b[39m\u001b[32m, line 91\u001b[39m\n\u001b[32m     89\u001b[39m df_example = pd.DataFrame({\u001b[33m'\u001b[39m\u001b[33mgpx\u001b[39m\u001b[33m'\u001b[39m})\n\u001b[32m     90\u001b[39m \u001b[38;5;66;03m# Apply slope stats function\u001b[39;00m\n\u001b[32m---> \u001b[39m\u001b[32m91\u001b[39m df_stats = \u001b[43mdf_example\u001b[49m\u001b[43m[\u001b[49m\u001b[33;43m'\u001b[39;49m\u001b[33;43mgpx\u001b[39;49m\u001b[33;43m'\u001b[39;49m\u001b[43m]\u001b[49m.apply(slope_stats_from_gpx_string).apply(pd.Series)\n\u001b[32m     92\u001b[39m df_result = pd.concat([df_example, df_stats], axis=\u001b[32m1\u001b[39m)\n\u001b[32m     93\u001b[39m \u001b[38;5;28mprint\u001b[39m(\u001b[33m\"\u001b[39m\u001b[33mExample slope stats:\u001b[39m\u001b[33m\"\u001b[39m)\n",
            "\u001b[36mFile \u001b[39m\u001b[32mc:\\Users\\priyansh\\anaconda3\\envs\\py_ml_313\\Lib\\site-packages\\pandas\\core\\frame.py:4102\u001b[39m, in \u001b[36mDataFrame.__getitem__\u001b[39m\u001b[34m(self, key)\u001b[39m\n\u001b[32m   4100\u001b[39m \u001b[38;5;28;01mif\u001b[39;00m \u001b[38;5;28mself\u001b[39m.columns.nlevels > \u001b[32m1\u001b[39m:\n\u001b[32m   4101\u001b[39m     \u001b[38;5;28;01mreturn\u001b[39;00m \u001b[38;5;28mself\u001b[39m._getitem_multilevel(key)\n\u001b[32m-> \u001b[39m\u001b[32m4102\u001b[39m indexer = \u001b[38;5;28;43mself\u001b[39;49m\u001b[43m.\u001b[49m\u001b[43mcolumns\u001b[49m\u001b[43m.\u001b[49m\u001b[43mget_loc\u001b[49m\u001b[43m(\u001b[49m\u001b[43mkey\u001b[49m\u001b[43m)\u001b[49m\n\u001b[32m   4103\u001b[39m \u001b[38;5;28;01mif\u001b[39;00m is_integer(indexer):\n\u001b[32m   4104\u001b[39m     indexer = [indexer]\n",
            "\u001b[36mFile \u001b[39m\u001b[32mc:\\Users\\priyansh\\anaconda3\\envs\\py_ml_313\\Lib\\site-packages\\pandas\\core\\indexes\\range.py:417\u001b[39m, in \u001b[36mRangeIndex.get_loc\u001b[39m\u001b[34m(self, key)\u001b[39m\n\u001b[32m    415\u001b[39m         \u001b[38;5;28;01mraise\u001b[39;00m \u001b[38;5;167;01mKeyError\u001b[39;00m(key) \u001b[38;5;28;01mfrom\u001b[39;00m\u001b[38;5;250m \u001b[39m\u001b[34;01merr\u001b[39;00m\n\u001b[32m    416\u001b[39m \u001b[38;5;28;01mif\u001b[39;00m \u001b[38;5;28misinstance\u001b[39m(key, Hashable):\n\u001b[32m--> \u001b[39m\u001b[32m417\u001b[39m     \u001b[38;5;28;01mraise\u001b[39;00m \u001b[38;5;167;01mKeyError\u001b[39;00m(key)\n\u001b[32m    418\u001b[39m \u001b[38;5;28mself\u001b[39m._check_indexing_error(key)\n\u001b[32m    419\u001b[39m \u001b[38;5;28;01mraise\u001b[39;00m \u001b[38;5;167;01mKeyError\u001b[39;00m(key)\n",
            "\u001b[31mKeyError\u001b[39m: 'gpx'"
          ]
        }
      ],
      "source": [
        "import pandas as pd\n",
        "import xml.etree.ElementTree as ET\n",
        "import math\n",
        "\n",
        "# Haversine distance for horizontal distance calculation\n",
        "def haversine(lat1, lon1, lat2, lon2):\n",
        "    R = 6371000  # radius in meters\n",
        "    phi1, phi2 = math.radians(lat1), math.radians(lat2)\n",
        "    dphi = math.radians(lat2 - lat1)\n",
        "    dlambda = math.radians(lon2 - lon1)\n",
        "    a = math.sin(dphi / 2)**2 + math.cos(phi1) * math.cos(phi2) * math.sin(dlambda / 2)**2\n",
        "    return R * 2 * math.asin(math.sqrt(a))\n",
        "\n",
        "def slope_stats_from_gpx_string(gpx_string):\n",
        "    \"\"\"\n",
        "    Parse GPX XML string, extract track points, compute slopes between consecutive points.\n",
        "    Returns a dict with statistics for ascent and descent slopes (in percent).\n",
        "    \"\"\"\n",
        "    try:\n",
        "        root = ET.fromstring(gpx_string)\n",
        "        pts = []\n",
        "        for elem in root.iter():\n",
        "            if elem.tag.endswith('trkpt'):\n",
        "                lat = elem.attrib.get('lat')\n",
        "                lon = elem.attrib.get('lon')\n",
        "                ele_elem = elem.find('{*}ele')\n",
        "                if lat is not None and lon is not None and ele_elem is not None:\n",
        "                    try:\n",
        "                        ele = float(ele_elem.text)\n",
        "                    except (TypeError, ValueError):\n",
        "                        ele = None\n",
        "                    if ele is not None:\n",
        "                        pts.append((float(lat), float(lon), ele))\n",
        "        if len(pts) < 2:\n",
        "            return None  # insufficient points\n",
        "        ascent_slopes = []\n",
        "        descent_slopes = []\n",
        "        for i in range(1, len(pts)):\n",
        "            lat1, lon1, ele1 = pts[i-1]\n",
        "            lat2, lon2, ele2 = pts[i]\n",
        "            horiz = haversine(lat1, lon1, lat2, lon2)\n",
        "            if horiz <= 0:\n",
        "                continue\n",
        "            ele_diff = ele2 - ele1\n",
        "            slope_pct = (ele_diff / horiz) * 100  # percent grade\n",
        "            if ele_diff > 0:\n",
        "                ascent_slopes.append(slope_pct)\n",
        "            elif ele_diff < 0:\n",
        "                descent_slopes.append(abs(slope_pct))\n",
        "        stats = {\n",
        "            'mean_ascent_slope_pct': None,\n",
        "            'max_ascent_slope_pct': None,\n",
        "            'median_ascent_slope_pct': None,\n",
        "            'count_ascent_segments': 0,\n",
        "            'mean_descent_slope_pct': None,\n",
        "            'max_descent_slope_pct': None,\n",
        "            'median_descent_slope_pct': None,\n",
        "            'count_descent_segments': 0\n",
        "        }\n",
        "        if ascent_slopes:\n",
        "            stats.update({\n",
        "                'mean_ascent_slope_pct': sum(ascent_slopes) / len(ascent_slopes),\n",
        "                'max_ascent_slope_pct': max(ascent_slopes),\n",
        "                'median_ascent_slope_pct': pd.Series(ascent_slopes).median(),\n",
        "                'count_ascent_segments': len(ascent_slopes)\n",
        "            })\n",
        "        if descent_slopes:\n",
        "            stats.update({\n",
        "                'mean_descent_slope_pct': sum(descent_slopes) / len(descent_slopes),\n",
        "                'max_descent_slope_pct': max(descent_slopes),\n",
        "                'median_descent_slope_pct': pd.Series(descent_slopes).median(),\n",
        "                'count_descent_segments': len(descent_slopes)\n",
        "            })\n",
        "        return stats\n",
        "    except ET.ParseError:\n",
        "        return None\n",
        "\n",
        "# Example: sample GPX snippet\n",
        "gpx_snippet = \"\"\"<?xml version=\"1.0\" encoding=\"UTF-8\"?>\n",
        "<gpx xmlns=\"http://www.topografix.com/GPX/1/1\">\n",
        "  <trk><trkseg>\n",
        "    <trkpt lat=\"47.231143\" lon=\"13.227007\"><ele>1322.96</ele></trkpt>\n",
        "    <trkpt lat=\"47.230543\" lon=\"13.227488\"><ele>1330.89</ele></trkpt>\n",
        "    <trkpt lat=\"47.23103\" lon=\"13.226896\"><ele>1326.17</ele></trkpt>\n",
        "  </trkseg></trk>\n",
        "</gpx>\"\"\"\n",
        "\n",
        "# Create example DataFrame\n",
        "df_example = pd.DataFrame({'gpx': [gpx_snippet]})\n",
        "# Apply slope stats function\n",
        "df_stats = df_example['gpx'].apply(slope_stats_from_gpx_string).apply(pd.Series)\n",
        "df_result = pd.concat([df_example, df_stats], axis=1)\n",
        "print(\"Example slope stats:\")\n",
        "print(df_result)\n"
      ]
    },
    {
      "cell_type": "code",
      "execution_count": null,
      "metadata": {},
      "outputs": [],
      "source": [
        "#Pre-processing 0 (get rid of values with equal start and end time)\n",
        "\n",
        "try:\n",
        "    # Convert to datetime if not already\n",
        "    df['start_time'] = pd.to_datetime(df['start_time'], errors='coerce')\n",
        "    df['end_time'] = pd.to_datetime(df['end_time'], errors='coerce')\n",
        "    \n",
        "    # Drop rows where start_time equals end_time\n",
        "    initial_count = len(df)\n",
        "    df = df[df['start_time'] != df['end_time']].copy()\n",
        "    dropped_count = initial_count - len(df)\n",
        "    \n",
        "    # Display result summary and first few rows\n",
        "    print(f\"Dropped {dropped_count} rows where start_time == end_time.\")\n",
        "    import ace_tools as tools; tools.display_dataframe_to_user(name=\"Filtered DataFrame\", dataframe=df.head())\n",
        "except NameError:\n",
        "    print(\"DataFrame 'df' is not defined. Please ensure your DataFrame is named 'df' and has 'start_time' and 'end_time' columns.\")\n"
      ]
    },
    {
      "cell_type": "code",
      "execution_count": null,
      "metadata": {},
      "outputs": [],
      "source": [
        "\n",
=======
        "df[\"speed\"] = df[\"length_3d\"] / df[\"duration\"] \n",
>>>>>>> 3bf4e8bb451a176c559e1a6540d6ba77251a1cee
        "# Select relevant features\n",
        "df = df[df[\"break_time\"]>=0]\n",
        "df = df[df[\"break_time\"]<1.5*df[\"duration\"]]\n",
        "df = df[df[\"speed\"]<5]\n",
        "selected = df[[\"duration\",\"length_3d\", \"min_elevation\", \"max_elevation\", \"break_time\", \"uphill\", \"downhill\"]]\n",
        "X = selected\n",
        "y = df['difficulty'].str[1].astype(int)\n",
        "\n",
        "mask = X.notnull().all(axis=1) & y.notnull()\n",
        "X_clean = X[mask]\n",
        "y_clean = y[mask]\n",
        "\n",
        "scaler = StandardScaler()\n",
        "X_scaled = scaler.fit_transform(X)\n",
        "\n"
      ]
    },
    {
      "cell_type": "code",
<<<<<<< HEAD
      "execution_count": null,
=======
      "execution_count": 75,
>>>>>>> 3bf4e8bb451a176c559e1a6540d6ba77251a1cee
      "metadata": {
        "id": "IwQ84hlNyIut"
      },
      "outputs": [],
      "source": [
        "# Train test split\n",
        "X_train, X_test, y_train, y_test = train_test_split(\n",
        "        X_clean, y_clean, test_size=0.2, random_state=42, stratify=y_clean\n",
        "    )"
      ]
    },
    {
      "cell_type": "code",
<<<<<<< HEAD
      "execution_count": null,
      "metadata": {},
      "outputs": [],
=======
      "execution_count": 76,
      "metadata": {},
      "outputs": [
        {
          "data": {
            "image/png": "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",
            "text/plain": [
              "<Figure size 640x480 with 1 Axes>"
            ]
          },
          "metadata": {},
          "output_type": "display_data"
        }
      ],
      "source": [
        "#plt.scatter(X_train['duration']/3600, X_train['length_3d']/1000, alpha=0.6, c='blue')\n",
        "plt.scatter(y_train, X_train['max_elevation']/1000, alpha=0.6, c='red')\n",
        "plt.xlabel('Uphill')\n",
        "plt.ylabel('Length (3D)')\n",
        "plt.title('Scatter Plot: Uphill vs Length_3D')\n",
        "plt.grid(True)\n",
        "plt.show()"
      ]
    },
    {
      "cell_type": "code",
      "execution_count": 73,
      "metadata": {},
      "outputs": [
        {
          "name": "stderr",
          "output_type": "stream",
          "text": [
            "/home/amogh/ML/GradientAscent/.venv/lib/python3.12/site-packages/sklearn/linear_model/_logistic.py:1264: FutureWarning: 'multi_class' was deprecated in version 1.5 and will be removed in 1.7. From then on, it will always use 'multinomial'. Leave it to its default value to avoid this warning.\n",
            "  warnings.warn(\n"
          ]
        },
        {
          "name": "stdout",
          "output_type": "stream",
          "text": [
            "              precision    recall  f1-score   support\n",
            "\n",
            "           1       0.71      0.46      0.56       148\n",
            "           2       0.49      0.44      0.47       560\n",
            "           3       0.44      0.74      0.55       656\n",
            "           4       0.29      0.10      0.15       268\n",
            "           5       0.50      0.01      0.02       126\n",
            "           6       0.00      0.00      0.00        42\n",
            "\n",
            "    accuracy                           0.46      1800\n",
            "   macro avg       0.41      0.29      0.29      1800\n",
            "weighted avg       0.45      0.46      0.41      1800\n",
            "\n"
          ]
        },
        {
          "name": "stderr",
          "output_type": "stream",
          "text": [
            "/home/amogh/ML/GradientAscent/.venv/lib/python3.12/site-packages/sklearn/linear_model/_logistic.py:470: ConvergenceWarning: lbfgs failed to converge after 1000 iteration(s) (status=1):\n",
            "STOP: TOTAL NO. OF ITERATIONS REACHED LIMIT\n",
            "\n",
            "Increase the number of iterations to improve the convergence (max_iter=1000).\n",
            "You might also want to scale the data as shown in:\n",
            "    https://scikit-learn.org/stable/modules/preprocessing.html\n",
            "Please also refer to the documentation for alternative solver options:\n",
            "    https://scikit-learn.org/stable/modules/linear_model.html#logistic-regression\n",
            "  n_iter_i = _check_optimize_result(\n"
          ]
        }
      ],
>>>>>>> 3bf4e8bb451a176c559e1a6540d6ba77251a1cee
      "source": [
        "# Model\n",
        "model = LogisticRegression(multi_class='multinomial', solver='lbfgs', max_iter=1000)\n",
        "model.fit(X_train, y_train)\n",
        "\n",
        "y_pred = model.predict(X_test)\n",
        "print(classification_report(y_test, y_pred))"
      ]
    },
    {
      "cell_type": "code",
      "execution_count": null,
      "metadata": {
        "id": "THfTKXxXxE4D"
      },
      "outputs": [],
      "source": [
        "scaler = StandardScaler()\n",
        "X_clean = scaler.fit_transform(X)\n",
        "\n",
        "pca = PCA()\n",
        "X_pca = pca.fit_transform(X_clean)\n",
        "# explained = pca.explained_variance_ratio_"
      ]
    }
  ],
  "metadata": {
    "colab": {
      "include_colab_link": true,
      "provenance": [],
      "toc_visible": true
    },
    "kernelspec": {
<<<<<<< HEAD
      "display_name": "py_ml_313",
=======
      "display_name": ".venv",
>>>>>>> 3bf4e8bb451a176c559e1a6540d6ba77251a1cee
      "language": "python",
      "name": "python3"
    },
    "language_info": {
      "codemirror_mode": {
        "name": "ipython",
        "version": 3
      },
      "file_extension": ".py",
      "mimetype": "text/x-python",
      "name": "python",
      "nbconvert_exporter": "python",
      "pygments_lexer": "ipython3",
<<<<<<< HEAD
      "version": "3.12.9"
=======
      "version": "3.12.3"
>>>>>>> 3bf4e8bb451a176c559e1a6540d6ba77251a1cee
    }
  },
  "nbformat": 4,
  "nbformat_minor": 0
}
